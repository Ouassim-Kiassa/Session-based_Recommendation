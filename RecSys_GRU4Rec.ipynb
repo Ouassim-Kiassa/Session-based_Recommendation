{
  "cells": [
    {
      "cell_type": "markdown",
      "metadata": {
        "id": "T7a-8RoeutSf"
      },
      "source": [
        "Copy modified GRU4RECKeras model and preprocess directory"
      ]
    },
    {
      "cell_type": "code",
      "execution_count": null,
      "metadata": {
        "id": "hZlrFloKu3gP"
      },
      "outputs": [],
      "source": [
        "import numpy as np\n",
        "from sklearn.model_selection import train_test_split\n",
        "import pandas as pd\n",
        "train_data = pd.read_csv('train_sessions.csv', dtype={'item_id': np.int64})\n",
        "train, validation = train_test_split(train_data.session_id.unique(), test_size=0.2, random_state=42, shuffle=True)\n",
        "train, test = train_test_split(train, test_size=0.2, random_state=42, shuffle=True)"
      ]
    },
    {
      "cell_type": "code",
      "execution_count": null,
      "metadata": {
        "id": "pzny0aXzv7fr"
      },
      "outputs": [],
      "source": [
        "training_data = train_data.loc[train_data['session_id'].isin(train)].reset_index()\n",
        "validation_data = train_data.loc[train_data['session_id'].isin(validation)].reset_index()\n",
        "test_data = train_data.loc[train_data['session_id'].isin(test)].reset_index()\n",
        "\n",
        "training_data.to_csv('train.csv')\n",
        "validation_data.to_csv('valid.csv')\n",
        "test_data.to_csv('test.csv')"
      ]
    },
    {
      "cell_type": "code",
      "execution_count": null,
      "metadata": {
        "colab": {
          "base_uri": "https://localhost:8080/"
        },
        "id": "O3WF4fpNxy6s",
        "outputId": "67fc4c94-5775-4693-ebf7-944dadf9af81"
      },
      "outputs": [
        {
          "name": "stdout",
          "output_type": "stream",
          "text": [
            "640000\n",
            "200000\n"
          ]
        },
        {
          "data": {
            "text/plain": [
              "160000"
            ]
          },
          "execution_count": 5,
          "metadata": {},
          "output_type": "execute_result"
        }
      ],
      "source": [
        "print(len(training_data.session_id.unique()))\n",
        "print(len(validation_data.session_id.unique()))\n",
        "len(test_data.session_id.unique())"
      ]
    },
    {
      "cell_type": "code",
      "execution_count": null,
      "metadata": {
        "colab": {
          "base_uri": "https://localhost:8080/"
        },
        "id": "_UQhN_NWuvrr",
        "outputId": "5bf3e7c3-2c15-4a7b-b944-1c0fbdbfb38c"
      },
      "outputs": [
        {
          "name": "stdout",
          "output_type": "stream",
          "text": [
            "2022-07-06 19:38:14.929360: W tensorflow/core/common_runtime/gpu/gpu_bfc_allocator.cc:39] Overriding allow_growth setting because the TF_FORCE_GPU_ALLOW_GROWTH environment variable is set. Original config value was 0.\n",
            "/usr/local/lib/python3.7/dist-packages/keras/optimizer_v2/adam.py:105: UserWarning: The `lr` argument is deprecated, use `learning_rate` instead.\n",
            "  super(Adam, self).__init__(name, **kwargs)\n",
            "Model: \"model\"\n",
            "_________________________________________________________________\n",
            " Layer (type)                Output Shape              Param #   \n",
            "=================================================================\n",
            " input_1 (InputLayer)        [(16, 1, 22464)]          0         \n",
            "                                                                 \n",
            " GRU (GRU)                   [(16, 100),               6769800   \n",
            "                              (16, 100)]                         \n",
            "                                                                 \n",
            " dropout (Dropout)           (16, 100)                 0         \n",
            "                                                                 \n",
            " dense (Dense)               (16, 22464)               2268864   \n",
            "                                                                 \n",
            "=================================================================\n",
            "Total params: 9,038,664\n",
            "Trainable params: 9,038,664\n",
            "Non-trainable params: 0\n",
            "_________________________________________________________________\n",
            "Epoch 1. Loss: 8.97254:   0% 2467/640001 [00:28<1:32:58, 114.29it/s]2022-07-06 19:38:56.799179: W tensorflow/core/data/root_dataset.cc:200] Optimization loop failed: CANCELLED: Operation was cancelled\n",
            "Epoch 1. Loss: 9.66997:   0% 2976/640001 [00:33<1:55:35, 91.84it/s]2022-07-06 19:39:01.915853: W tensorflow/core/data/root_dataset.cc:200] Optimization loop failed: CANCELLED: Operation was cancelled\n",
            "Epoch 1. Loss: 9.61175:   0% 2979/640001 [00:33<2:44:38, 64.49it/s]2022-07-06 19:39:01.983627: W tensorflow/core/data/root_dataset.cc:200] Optimization loop failed: CANCELLED: Operation was cancelled\n",
            "Epoch 1. Loss: 9.60371:   0% 2979/640001 [00:33<2:44:38, 64.49it/s]2022-07-06 19:39:02.021271: W tensorflow/core/data/root_dataset.cc:200] Optimization loop failed: CANCELLED: Operation was cancelled\n",
            "Epoch 1. Loss: 9.26577:   0% 3038/640001 [00:34<1:59:39, 88.72it/s]2022-07-06 19:39:02.695114: W tensorflow/core/data/root_dataset.cc:200] Optimization loop failed: CANCELLED: Operation was cancelled\n",
            "Epoch 1. Loss: 9.36049:   0% 3040/640001 [00:34<1:59:39, 88.72it/s]2022-07-06 19:39:02.764848: W tensorflow/core/data/root_dataset.cc:200] Optimization loop failed: CANCELLED: Operation was cancelled\n",
            "Epoch 1. Loss: 9.34760:   0% 3041/640001 [00:34<1:59:39, 88.72it/s]2022-07-06 19:39:02.794846: W tensorflow/core/data/root_dataset.cc:200] Optimization loop failed: CANCELLED: Operation was cancelled\n",
            "Epoch 1. Loss: 9.57524:   0% 3115/640001 [00:35<1:59:25, 88.88it/s]2022-07-06 19:39:03.670842: W tensorflow/core/data/root_dataset.cc:200] Optimization loop failed: CANCELLED: Operation was cancelled\n",
            "Epoch 1. Loss: 9.60910:   0% 3116/640001 [00:35<1:59:25, 88.88it/s]2022-07-06 19:39:03.702844: W tensorflow/core/data/root_dataset.cc:200] Optimization loop failed: CANCELLED: Operation was cancelled\n",
            "Epoch 1. Loss: 9.47650:   0% 3120/640001 [00:35<1:59:25, 88.88it/s]2022-07-06 19:39:03.736847: W tensorflow/core/data/root_dataset.cc:200] Optimization loop failed: CANCELLED: Operation was cancelled\n",
            "Epoch 1. Loss: 9.61908:   0% 3123/640001 [00:35<1:59:25, 88.88it/s]2022-07-06 19:39:03.802850: W tensorflow/core/data/root_dataset.cc:200] Optimization loop failed: CANCELLED: Operation was cancelled\n",
            "Epoch 1. Loss: 9.51044:   1% 3240/640001 [00:36<1:51:10, 95.46it/s]2022-07-06 19:39:04.951657: W tensorflow/core/data/root_dataset.cc:200] Optimization loop failed: CANCELLED: Operation was cancelled\n",
            "Epoch 1. Loss: 8.89048:   1% 5551/640001 [00:58<1:38:32, 107.30it/s]2022-07-06 19:39:27.428848: W tensorflow/core/data/root_dataset.cc:200] Optimization loop failed: CANCELLED: Operation was cancelled\n",
            "Epoch 1. Loss: 9.70857:   1% 5553/640001 [00:58<1:38:32, 107.30it/s]2022-07-06 19:39:27.466844: W tensorflow/core/data/root_dataset.cc:200] Optimization loop failed: CANCELLED: Operation was cancelled\n",
            "Epoch 1. Loss: 9.61335:   1% 5635/640001 [01:00<2:11:14, 80.56it/s]2022-07-06 19:39:28.642943: W tensorflow/core/data/root_dataset.cc:200] Optimization loop failed: CANCELLED: Operation was cancelled\n",
            "Epoch 1. Loss: 9.14360:   1% 5646/640001 [01:00<3:07:21, 56.43it/s]2022-07-06 19:39:28.954877: W tensorflow/core/data/root_dataset.cc:200] Optimization loop failed: CANCELLED: Operation was cancelled\n",
            "Epoch 1. Loss: 9.08243:   1% 5648/640001 [01:00<3:07:21, 56.43it/s]2022-07-06 19:39:28.992528: W tensorflow/core/data/root_dataset.cc:200] Optimization loop failed: CANCELLED: Operation was cancelled\n",
            "Epoch 1. Loss: 9.06690:   1% 5653/640001 [01:00<3:15:24, 54.10it/s]2022-07-06 19:39:29.035851: W tensorflow/core/data/root_dataset.cc:200] Optimization loop failed: CANCELLED: Operation was cancelled\n",
            "Epoch 1. Loss: 9.72240:   1% 5712/640001 [01:01<2:46:07, 63.64it/s]2022-07-06 19:39:29.933873: W tensorflow/core/data/root_dataset.cc:200] Optimization loop failed: CANCELLED: Operation was cancelled\n",
            "Epoch 1. Loss: 10.10671:   1% 5713/640001 [01:01<2:46:07, 63.64it/s]2022-07-06 19:39:29.979853: W tensorflow/core/data/root_dataset.cc:200] Optimization loop failed: CANCELLED: Operation was cancelled\n",
            "Epoch 1. Loss: 9.05181:   1% 5719/640001 [01:01<3:31:00, 50.10it/s]2022-07-06 19:39:30.101200: W tensorflow/core/data/root_dataset.cc:200] Optimization loop failed: CANCELLED: Operation was cancelled\n",
            "Epoch 1. Loss: 9.54858:   1% 7523/640001 [01:18<1:40:20, 105.05it/s]2022-07-06 19:39:46.817071: W tensorflow/core/data/root_dataset.cc:200] Optimization loop failed: CANCELLED: Operation was cancelled\n",
            "Epoch 1. Loss: 9.30373:   2% 12423/640001 [02:04<1:45:12, 99.41it/s]2022-07-06 19:40:32.520007: W tensorflow/core/data/root_dataset.cc:200] Optimization loop failed: CANCELLED: Operation was cancelled\n",
            "Epoch 1. Loss: 8.99788:   3% 17318/640001 [02:49<1:35:55, 108.19it/s]2022-07-06 19:41:18.320330: W tensorflow/core/data/root_dataset.cc:200] Optimization loop failed: CANCELLED: Operation was cancelled\n",
            "Epoch 1. Loss: 8.12625:   5% 29018/640001 [04:38<1:36:01, 106.04it/s]2022-07-06 19:43:07.259782: W tensorflow/core/data/root_dataset.cc:200] Optimization loop failed: CANCELLED: Operation was cancelled\n",
            "Epoch 1. Loss: 9.35466:   5% 29244/640001 [04:40<1:40:15, 101.54it/s]2022-07-06 19:43:09.332862: W tensorflow/core/data/root_dataset.cc:200] Optimization loop failed: CANCELLED: Operation was cancelled\n",
            "Epoch 1. Loss: 9.20119:   5% 30228/640001 [04:50<1:27:39, 115.93it/s]2022-07-06 19:43:18.830642: W tensorflow/core/data/root_dataset.cc:200] Optimization loop failed: CANCELLED: Operation was cancelled\n",
            "Epoch 1. Loss: 8.35184:   5% 33206/640001 [05:17<1:29:47, 112.63it/s]2022-07-06 19:43:45.930645: W tensorflow/core/data/root_dataset.cc:200] Optimization loop failed: CANCELLED: Operation was cancelled\n",
            "Epoch 1. Loss: 8.55893:   6% 37479/640001 [05:58<1:32:46, 108.25it/s]2022-07-06 19:44:26.633317: W tensorflow/core/data/root_dataset.cc:200] Optimization loop failed: CANCELLED: Operation was cancelled\n",
            "Epoch 1. Loss: 8.14678:   6% 37836/640001 [06:01<1:44:03, 96.45it/s]2022-07-06 19:44:29.688579: W tensorflow/core/data/root_dataset.cc:200] Optimization loop failed: CANCELLED: Operation was cancelled\n",
            "Epoch 1. Loss: 8.13881:   6% 39530/640001 [06:17<1:41:23, 98.70it/s] 2022-07-06 19:44:45.974618: W tensorflow/core/data/root_dataset.cc:200] Optimization loop failed: CANCELLED: Operation was cancelled\n",
            "Epoch 1. Loss: 8.62618:   7% 43579/640001 [06:55<1:25:36, 116.10it/s]2022-07-06 19:45:23.644450: W tensorflow/core/data/root_dataset.cc:200] Optimization loop failed: CANCELLED: Operation was cancelled\n",
            "Epoch 1. Loss: 9.73207:   7% 44832/640001 [07:07<1:36:44, 102.53it/s]2022-07-06 19:45:35.865586: W tensorflow/core/data/root_dataset.cc:200] Optimization loop failed: CANCELLED: Operation was cancelled\n",
            "Epoch 1. Loss: 7.59163:   7% 46303/640001 [07:21<1:47:06, 92.39it/s]2022-07-06 19:45:50.123089: W tensorflow/core/data/root_dataset.cc:200] Optimization loop failed: CANCELLED: Operation was cancelled\n",
            "Epoch 1. Loss: 8.20177:   8% 48369/640001 [07:41<1:25:58, 114.68it/s]2022-07-06 19:46:09.860570: W tensorflow/core/data/root_dataset.cc:200] Optimization loop failed: CANCELLED: Operation was cancelled\n",
            "Epoch 1. Loss: 7.72027:  10% 63142/640001 [09:59<1:32:28, 103.96it/s]2022-07-06 19:48:27.875734: W tensorflow/core/data/root_dataset.cc:200] Optimization loop failed: CANCELLED: Operation was cancelled\n",
            "Epoch 1. Loss: 7.22883:  10% 65551/640001 [10:21<1:27:52, 108.95it/s]2022-07-06 19:48:50.261889: W tensorflow/core/data/root_dataset.cc:200] Optimization loop failed: CANCELLED: Operation was cancelled\n",
            "Epoch 1. Loss: 8.15389:  11% 71086/640001 [11:13<1:25:31, 110.87it/s]2022-07-06 19:49:42.151585: W tensorflow/core/data/root_dataset.cc:200] Optimization loop failed: CANCELLED: Operation was cancelled\n",
            "Epoch 1. Loss: 8.41591:  11% 72503/640001 [11:26<1:31:50, 102.98it/s]2022-07-06 19:49:55.370651: W tensorflow/core/data/root_dataset.cc:200] Optimization loop failed: CANCELLED: Operation was cancelled\n",
            "Epoch 1. Loss: 9.00443:  12% 76591/640001 [12:05<1:18:42, 119.32it/s]2022-07-06 19:50:33.696602: W tensorflow/core/data/root_dataset.cc:200] Optimization loop failed: CANCELLED: Operation was cancelled\n",
            "Epoch 1. Loss: 8.29474:  13% 80924/640001 [12:46<1:28:35, 105.17it/s]2022-07-06 19:51:14.749597: W tensorflow/core/data/root_dataset.cc:200] Optimization loop failed: CANCELLED: Operation was cancelled\n",
            "Epoch 1. Loss: 6.70202:  13% 84614/640001 [13:20<1:17:36, 119.27it/s]2022-07-06 19:51:49.337409: W tensorflow/core/data/root_dataset.cc:200] Optimization loop failed: CANCELLED: Operation was cancelled\n",
            "Epoch 1. Loss: 7.61117:  14% 91731/640001 [14:29<1:26:58, 105.07it/s]2022-07-06 19:52:57.582783: W tensorflow/core/data/root_dataset.cc:200] Optimization loop failed: CANCELLED: Operation was cancelled\n",
            "Epoch 1. Loss: 9.67413:  15% 93441/640001 [14:45<1:30:47, 100.33it/s]2022-07-06 19:53:13.864316: W tensorflow/core/data/root_dataset.cc:200] Optimization loop failed: CANCELLED: Operation was cancelled\n",
            "Epoch 1. Loss: 7.65844:  15% 94964/640001 [14:59<1:19:45, 113.89it/s]2022-07-06 19:53:28.135462: W tensorflow/core/data/root_dataset.cc:200] Optimization loop failed: CANCELLED: Operation was cancelled\n",
            "Epoch 1. Loss: 7.46348:  16% 99225/640001 [15:39<1:22:43, 108.96it/s]2022-07-06 19:54:07.833683: W tensorflow/core/data/root_dataset.cc:200] Optimization loop failed: CANCELLED: Operation was cancelled\n",
            "Epoch 1. Loss: 8.13187:  16% 101513/640001 [16:00<1:34:08, 95.33it/s]2022-07-06 19:54:29.212005: W tensorflow/core/data/root_dataset.cc:200] Optimization loop failed: CANCELLED: Operation was cancelled\n",
            "Epoch 1. Loss: 7.89908:  18% 112429/640001 [17:44<1:30:00, 97.69it/s]2022-07-06 19:56:13.092165: W tensorflow/core/data/root_dataset.cc:200] Optimization loop failed: CANCELLED: Operation was cancelled\n",
            "Epoch 1. Loss: 7.37207:  18% 114872/640001 [18:08<1:20:03, 109.33it/s]2022-07-06 19:56:36.513764: W tensorflow/core/data/root_dataset.cc:200] Optimization loop failed: CANCELLED: Operation was cancelled\n",
            "Epoch 1. Loss: 8.33288:  19% 124549/640001 [19:38<1:19:30, 108.05it/s]2022-07-06 19:58:07.100987: W tensorflow/core/data/root_dataset.cc:200] Optimization loop failed: CANCELLED: Operation was cancelled\n",
            "Epoch 1. Loss: 9.25476:  20% 126890/640001 [19:59<1:04:09, 133.29it/s]2022-07-06 19:58:28.486781: W tensorflow/core/data/root_dataset.cc:200] Optimization loop failed: CANCELLED: Operation was cancelled\n",
            "Epoch 1. Loss: 6.68247:  23% 150063/640001 [23:36<1:20:15, 101.73it/s]2022-07-06 20:02:05.254340: W tensorflow/core/data/root_dataset.cc:200] Optimization loop failed: CANCELLED: Operation was cancelled\n",
            "Epoch 1. Loss: 7.30944:  25% 158997/640001 [24:58<1:18:21, 102.31it/s]2022-07-06 20:03:26.695538: W tensorflow/core/data/root_dataset.cc:200] Optimization loop failed: CANCELLED: Operation was cancelled\n",
            "Epoch 1. Loss: 7.04481:  26% 164317/640001 [25:46<1:16:17, 103.92it/s]2022-07-06 20:04:14.507063: W tensorflow/core/data/root_dataset.cc:200] Optimization loop failed: CANCELLED: Operation was cancelled\n",
            "Epoch 1. Loss: 7.53719:  26% 165795/640001 [25:59<1:10:19, 112.38it/s]2022-07-06 20:04:27.731857: W tensorflow/core/data/root_dataset.cc:200] Optimization loop failed: CANCELLED: Operation was cancelled\n",
            "Epoch 1. Loss: 8.45945:  27% 172062/640001 [26:56<1:11:05, 109.70it/s]2022-07-06 20:05:24.728287: W tensorflow/core/data/root_dataset.cc:200] Optimization loop failed: CANCELLED: Operation was cancelled\n",
            "Epoch 1. Loss: 7.68407:  28% 177777/640001 [27:49<1:05:05, 118.35it/s]2022-07-06 20:06:17.667943: W tensorflow/core/data/root_dataset.cc:200] Optimization loop failed: CANCELLED: Operation was cancelled\n",
            "Epoch 1. Loss: 7.05716:  28% 179474/640001 [28:04<1:09:15, 110.82it/s]2022-07-06 20:06:33.410974: W tensorflow/core/data/root_dataset.cc:200] Optimization loop failed: CANCELLED: Operation was cancelled\n",
            "Epoch 1. Loss: 7.01624:  29% 185013/640001 [28:57<1:17:21, 98.03it/s]2022-07-06 20:07:26.220520: W tensorflow/core/data/root_dataset.cc:200] Optimization loop failed: CANCELLED: Operation was cancelled\n",
            "Epoch 1. Loss: 7.95596:  30% 194004/640001 [30:21<1:09:45, 106.55it/s]2022-07-06 20:08:49.538790: W tensorflow/core/data/root_dataset.cc:200] Optimization loop failed: CANCELLED: Operation was cancelled\n",
            "Epoch 1. Loss: 7.30125:  32% 206675/640001 [32:17<1:09:47, 103.47it/s]2022-07-06 20:10:46.382843: W tensorflow/core/data/root_dataset.cc:200] Optimization loop failed: CANCELLED: Operation was cancelled\n",
            "Epoch 1. Loss: 8.34521:  33% 211694/640001 [33:04<1:08:36, 104.03it/s]2022-07-06 20:11:32.733180: W tensorflow/core/data/root_dataset.cc:200] Optimization loop failed: CANCELLED: Operation was cancelled\n",
            "Epoch 1. Loss: 6.62480:  34% 215409/640001 [33:38<1:08:18, 103.59it/s]2022-07-06 20:12:06.847673: W tensorflow/core/data/root_dataset.cc:200] Optimization loop failed: CANCELLED: Operation was cancelled\n",
            "Epoch 1. Loss: 7.68463:  34% 215797/640001 [33:41<58:51, 120.12it/s]2022-07-06 20:12:10.063481: W tensorflow/core/data/root_dataset.cc:200] Optimization loop failed: CANCELLED: Operation was cancelled\n",
            "Epoch 1. Loss: 8.59773:  34% 219588/640001 [34:17<1:08:22, 102.48it/s]2022-07-06 20:12:45.527774: W tensorflow/core/data/root_dataset.cc:200] Optimization loop failed: CANCELLED: Operation was cancelled\n",
            "Epoch 1. Loss: 7.19720:  35% 224827/640001 [35:03<52:09, 132.68it/s]2022-07-06 20:13:32.353014: W tensorflow/core/data/root_dataset.cc:200] Optimization loop failed: CANCELLED: Operation was cancelled\n",
            "Epoch 1. Loss: 7.94252:  36% 228351/640001 [35:36<1:17:36, 88.39it/s]2022-07-06 20:14:04.931614: W tensorflow/core/data/root_dataset.cc:200] Optimization loop failed: CANCELLED: Operation was cancelled\n",
            "Epoch 1. Loss: 6.83371:  36% 233292/640001 [36:21<1:01:56, 109.43it/s]2022-07-06 20:14:49.730776: W tensorflow/core/data/root_dataset.cc:200] Optimization loop failed: CANCELLED: Operation was cancelled\n",
            "Epoch 1. Loss: 6.55628:  37% 239512/640001 [37:18<1:09:31, 96.02it/s]2022-07-06 20:15:46.731823: W tensorflow/core/data/root_dataset.cc:200] Optimization loop failed: CANCELLED: Operation was cancelled\n",
            "Epoch 1. Loss: 7.10626:  38% 240727/640001 [37:29<52:20, 127.15it/s]2022-07-06 20:15:57.942620: W tensorflow/core/data/root_dataset.cc:200] Optimization loop failed: CANCELLED: Operation was cancelled\n",
            "Epoch 1. Loss: 8.51871:  38% 241276/640001 [37:34<56:16, 118.10it/s]2022-07-06 20:16:03.039726: W tensorflow/core/data/root_dataset.cc:200] Optimization loop failed: CANCELLED: Operation was cancelled\n",
            "Epoch 1. Loss: 6.52280:  38% 243190/640001 [37:51<58:39, 112.75it/s]2022-07-06 20:16:20.328366: W tensorflow/core/data/root_dataset.cc:200] Optimization loop failed: CANCELLED: Operation was cancelled\n",
            "Epoch 1. Loss: 8.21122:  39% 247295/640001 [38:29<1:16:04, 86.03it/s]2022-07-06 20:16:57.743888: W tensorflow/core/data/root_dataset.cc:200] Optimization loop failed: CANCELLED: Operation was cancelled\n",
            "Epoch 1. Loss: 7.41139:  39% 247624/640001 [38:32<1:01:04, 107.08it/s]\n",
            "Saving weights...\n",
            "Evaluating model...\n",
            "\t - Recall@20 epoch 1: 0.287893\n",
            "\t - MRR@20    epoch 1: 0.110173\n",
            "\n"
          ]
        }
      ],
      "source": [
        "#!python model/gru4rec.py --train-path /content/drive/MyDrive/DataScience/RecSys/train_sessions.csv --dev-path /content/drive/MyDrive/DataScience/RecSys/train_sessions.csv --test-path /content/drive/MyDrive/DataScience/RecSys/train_sessions.csv --epoch 5\n",
        "!python model/gru4rec.py --train-path train.csv --dev-path valid.csv --test-path test.csv --epoch 2"
      ]
    },
    {
      "cell_type": "code",
      "execution_count": null,
      "metadata": {
        "id": "JyyQ80Hku1L0"
      },
      "outputs": [],
      "source": []
    }
  ],
  "metadata": {
    "accelerator": "GPU",
    "colab": {
      "collapsed_sections": [],
      "name": "RecSys_GRU4Rec.ipynb",
      "provenance": []
    },
    "gpuClass": "standard",
    "kernelspec": {
      "display_name": "Python 3",
      "name": "python3"
    },
    "language_info": {
      "name": "python"
    }
  },
  "nbformat": 4,
  "nbformat_minor": 0
}
